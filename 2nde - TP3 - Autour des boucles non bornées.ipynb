{
 "cells": [
  {
   "cell_type": "markdown",
   "metadata": {},
   "source": [
    "#                                              TP 3 Autour des boucles non bornées"
   ]
  },
  {
   "cell_type": "markdown",
   "metadata": {},
   "source": [
    "### Ecriture d’une boucle non bornée en Python :  une condition d’arrêt étant connue"
   ]
  },
  {
   "cell_type": "code",
   "execution_count": null,
   "metadata": {},
   "outputs": [],
   "source": [
    "while condition :\n",
    "    instructions"
   ]
  },
  {
   "cell_type": "markdown",
   "metadata": {},
   "source": [
    "while introduit la boucle.\n",
    "Elle se répète tant que la condition est vérifiée.\n",
    "Les deux points entrainent une indentation (décalage vers la droite) comportant les instructions à répéter.\n",
    "C’est le retour vers la gauche qui marque la sortie de la boucle."
   ]
  },
  {
   "cell_type": "raw",
   "metadata": {},
   "source": [
    "MATHS  Python\n",
    "   =     ==\n",
    "   ≠     !=\n",
    "   ≤     <=\n",
    "   ≥     >="
   ]
  },
  {
   "cell_type": "markdown",
   "metadata": {},
   "source": [
    "### Premier exemple"
   ]
  },
  {
   "cell_type": "markdown",
   "metadata": {},
   "source": [
    "On donne une fonction qui écrit Python tant que n ≠ 4"
   ]
  },
  {
   "cell_type": "code",
   "execution_count": 20,
   "metadata": {},
   "outputs": [],
   "source": [
    "def repet() :\n",
    "    n = 0\n",
    "    while n != 4 :\n",
    "        print(\"Python\")\n",
    "        n = n + 1"
   ]
  },
  {
   "cell_type": "markdown",
   "metadata": {},
   "source": [
    "Tester cette fonction"
   ]
  },
  {
   "cell_type": "code",
   "execution_count": null,
   "metadata": {},
   "outputs": [],
   "source": []
  },
  {
   "cell_type": "markdown",
   "metadata": {},
   "source": [
    "Copier puis modifier la fonction repet en lui ajoutant un paramètre a pour qu'elle écrive Python tant que n ≠ a"
   ]
  },
  {
   "cell_type": "code",
   "execution_count": null,
   "metadata": {},
   "outputs": [],
   "source": []
  },
  {
   "cell_type": "markdown",
   "metadata": {},
   "source": [
    "Tester cette fonction avec a = 4 puis a = 7"
   ]
  },
  {
   "cell_type": "code",
   "execution_count": null,
   "metadata": {},
   "outputs": [],
   "source": []
  },
  {
   "cell_type": "markdown",
   "metadata": {},
   "source": [
    "### Boucles While et problèmes de seuil"
   ]
  },
  {
   "cell_type": "markdown",
   "metadata": {},
   "source": [
    "### Exemple 1\n",
    "Le 1er janvier 2015, Etienne a reçu 90€ puis chaque année, cette somme augmente de 5€ puis s'ajoute au reste. Etienne décide de ne pas dépenser cet argent avant de disposer de 700€.\n",
    "La fonction année ci dessous, sans paramètre, renvoie l'année à partir de laquelle Etienne pourra dépenser son argent"
   ]
  },
  {
   "cell_type": "code",
   "execution_count": 1,
   "metadata": {},
   "outputs": [],
   "source": [
    "def année() :\n",
    "    E = 90\n",
    "    T = 90\n",
    "    A = 2015\n",
    "    while T < 700 :\n",
    "        E = E + 5\n",
    "        T = T + E\n",
    "        A = A + 1\n",
    "    return(A)"
   ]
  },
  {
   "cell_type": "markdown",
   "metadata": {},
   "source": [
    "Utilser cette fonction pour savoir en quelle année Etienne pourra dépenser son argent"
   ]
  },
  {
   "cell_type": "code",
   "execution_count": null,
   "metadata": {},
   "outputs": [],
   "source": []
  },
  {
   "cell_type": "markdown",
   "metadata": {},
   "source": [
    "Copier puis modifier la fonction année en lui ajoutant comme paramètre la somme qu'Etienne souhaite avoir pour pouvoir dépenser son argent et qui renvoie l'année à partir de laquelle Etienne pourra le dépenser."
   ]
  },
  {
   "cell_type": "code",
   "execution_count": 3,
   "metadata": {},
   "outputs": [],
   "source": []
  },
  {
   "cell_type": "code",
   "execution_count": null,
   "metadata": {},
   "outputs": [],
   "source": [
    "Tester cette fonction pour 700 euros et 3000 euros"
   ]
  },
  {
   "cell_type": "code",
   "execution_count": null,
   "metadata": {},
   "outputs": [],
   "source": []
  },
  {
   "cell_type": "markdown",
   "metadata": {},
   "source": [
    "### Exemple 2\n",
    "\n",
    "1)Une entreprise de forage creuse des puits. Elle facture le premier mètre creusé 100€, le second mètre 140€ et ainsi de suite en augmentant le prix de 40€ à chaque nouveau mètre creusé.\n",
    "Compléter la fonction puits, de paramètre la profondeur H du puits(en mètres), afin qu’elle retourne le prix(en euros) de ce puits."
   ]
  },
  {
   "cell_type": "code",
   "execution_count": 6,
   "metadata": {},
   "outputs": [],
   "source": [
    "def puits(H) :\n",
    "    M = 100 \n",
    "    S = 100\n",
    "    N = 1\n",
    "    while N < H :\n",
    "        M = ......\n",
    "        S = ......\n",
    "        N = ......\n",
    "    return(......)"
   ]
  },
  {
   "cell_type": "markdown",
   "metadata": {},
   "source": [
    "Utiliser cette fonction pour calculer le prix d'un puits de 12 mètres de profondeur"
   ]
  },
  {
   "cell_type": "code",
   "execution_count": null,
   "metadata": {},
   "outputs": [],
   "source": []
  },
  {
   "cell_type": "markdown",
   "metadata": {},
   "source": [
    "2)Une association humanitaire dispose de 4000€.\n",
    "En s'inspirant de la fonction précédente, créer une fonction profondeur, sans paramètre, qui renvoie la profondeur maximale du puits qu’elle peut financer"
   ]
  },
  {
   "cell_type": "code",
   "execution_count": 14,
   "metadata": {},
   "outputs": [],
   "source": [
    "def profondeur() :\n",
    "    M = 100 \n",
    "    S = 100\n",
    "    N = 0\n",
    "    while ...... :\n",
    "        M = ......\n",
    "        S = ......\n",
    "        N = ......\n",
    "    return(......)"
   ]
  },
  {
   "cell_type": "markdown",
   "metadata": {},
   "source": [
    "Tester cette fonction et comparer avec le résultat obtenu avec la fonction puits"
   ]
  },
  {
   "cell_type": "code",
   "execution_count": null,
   "metadata": {},
   "outputs": [],
   "source": []
  },
  {
   "cell_type": "markdown",
   "metadata": {},
   "source": [
    "Copier et modifier la fonction profondeur en lui ajoutant comme paramètre la somme dont dispose l'association et qui renvoie la profondeur du puits qu\"elle pourra creuser"
   ]
  },
  {
   "cell_type": "code",
   "execution_count": null,
   "metadata": {},
   "outputs": [],
   "source": []
  },
  {
   "cell_type": "markdown",
   "metadata": {},
   "source": [
    "Utiliser cette fonction pour donner la profondeur maximale du puits qu'on peut creuser avec 6000 euros et avec 50000 euros"
   ]
  },
  {
   "cell_type": "code",
   "execution_count": null,
   "metadata": {},
   "outputs": [],
   "source": []
  },
  {
   "cell_type": "markdown",
   "metadata": {},
   "source": [
    "### Exemple 3\n",
    "\n",
    "En 2018 la population mondiale est estimée à 7 577 millions (environ 7,6 milliards) . Le taux annuel de la croissance \n",
    "démographique de la population mondiale est d’environ 1,2 %.\n",
    "La fonction suivante cherche à déterminer en quelle année, si cette évolution se poursuit, la population mondiale\n",
    "dépassera 10 milliards et quelle sera cette population.\n",
    "Compléter cet algorithme  afin d’obtenir la réponse cherchée."
   ]
  },
  {
   "cell_type": "code",
   "execution_count": null,
   "metadata": {},
   "outputs": [],
   "source": [
    "def f():\n",
    "    population=7 577 000 000\n",
    "    annee=2018\n",
    "    while .... :\n",
    "        annee=...\n",
    "        population=...\n",
    "    return (annee,population)"
   ]
  },
  {
   "cell_type": "markdown",
   "metadata": {},
   "source": [
    "Tester cette fonction pour un seuil de 10 milliards"
   ]
  },
  {
   "cell_type": "code",
   "execution_count": null,
   "metadata": {},
   "outputs": [],
   "source": []
  },
  {
   "cell_type": "markdown",
   "metadata": {},
   "source": [
    "Copier et modifier cette fonction en lui ajoutant 3 paramètres: la population au départ p, le taux annuel de croissance démographique t et le seuil de population à dépasser s."
   ]
  },
  {
   "cell_type": "code",
   "execution_count": null,
   "metadata": {},
   "outputs": [],
   "source": []
  },
  {
   "cell_type": "markdown",
   "metadata": {},
   "source": [
    "Tester cette fonction pour p=7577000000, t=1,2% et s=10 milliards puis pour p=3456257, t=5% et s=8 millions"
   ]
  },
  {
   "cell_type": "code",
   "execution_count": null,
   "metadata": {},
   "outputs": [],
   "source": []
  },
  {
   "cell_type": "markdown",
   "metadata": {},
   "source": [
    "### Exemple 4\n",
    "\n",
    "Une maison coûte 1000000 euros  en 2019 perd 5% de sa valeur chaque année\n",
    "Ecrire une fonction sans paramètre qui renvoie l'année à partir de laquelle le prix de la maison sera inférieur à 500000 euros."
   ]
  },
  {
   "cell_type": "code",
   "execution_count": null,
   "metadata": {},
   "outputs": [],
   "source": []
  },
  {
   "cell_type": "markdown",
   "metadata": {},
   "source": [
    "Tester cette fonction"
   ]
  },
  {
   "cell_type": "code",
   "execution_count": null,
   "metadata": {},
   "outputs": [],
   "source": []
  },
  {
   "cell_type": "markdown",
   "metadata": {},
   "source": [
    "Copier et modifier la fonction en lui ajoutant comme paramètres le prix P de la maison au départ, le taux annuel de perte de valeur de la maison t  et le prix S à ne pas dépasser. Elle doit renvoyer l'année à partir de laquelle le prix de la maison sera inférieur à S euros."
   ]
  },
  {
   "cell_type": "code",
   "execution_count": null,
   "metadata": {},
   "outputs": [],
   "source": []
  },
  {
   "cell_type": "markdown",
   "metadata": {},
   "source": [
    "Tester cette fonction avec D = 1000000, t = 5% et S = 500000 puis avec D = 450000 , t = 15% et S = 200000 "
   ]
  },
  {
   "cell_type": "code",
   "execution_count": null,
   "metadata": {},
   "outputs": [],
   "source": []
  }
 ],
 "metadata": {
  "kernelspec": {
   "display_name": "Python 3 (ipykernel)",
   "language": "python",
   "name": "python3"
  },
  "language_info": {
   "codemirror_mode": {
    "name": "ipython",
    "version": 3
   },
   "file_extension": ".py",
   "mimetype": "text/x-python",
   "name": "python",
   "nbconvert_exporter": "python",
   "pygments_lexer": "ipython3",
   "version": "3.9.7"
  }
 },
 "nbformat": 4,
 "nbformat_minor": 4
}

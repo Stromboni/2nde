{
 "cells": [
  {
   "cell_type": "markdown",
   "id": "a24e89c8",
   "metadata": {},
   "source": [
    "## TP2: Autour de la géométrie"
   ]
  },
  {
   "cell_type": "markdown",
   "id": "d29ae69a",
   "metadata": {},
   "source": [
    "On veut calculer les coordonnées du milieu d'un segment.\n",
    "Pour cela, on a crée un programme dans lequel on donne les coordonnées des extrémités du segment et qui renvoie les coordonnées du milieu.\n",
    "Compléter le programme ci dessous"
   ]
  },
  {
   "cell_type": "code",
   "execution_count": 15,
   "id": "5021a49f",
   "metadata": {},
   "outputs": [],
   "source": [
    "def coordmil(xA,yA,xB,yB):\n",
    "    x=(xA+xB)/2\n",
    "    y=(yA+yB)/2\n",
    "    print(\"Les coordonnées du milieu sont(\",x,\";\",y,\")\")\n"
   ]
  },
  {
   "cell_type": "code",
   "execution_count": 16,
   "id": "09f046a9",
   "metadata": {},
   "outputs": [
    {
     "name": "stdout",
     "output_type": "stream",
     "text": [
      "Les coordonnées du milieu sont( 2.0 ; 3.0 )\n"
     ]
    }
   ],
   "source": [
    "coordmil(1,2,3,4)"
   ]
  },
  {
   "cell_type": "code",
   "execution_count": null,
   "id": "98a852f3",
   "metadata": {},
   "outputs": [],
   "source": []
  }
 ],
 "metadata": {
  "kernelspec": {
   "display_name": "Python 3 (ipykernel)",
   "language": "python",
   "name": "python3"
  },
  "language_info": {
   "codemirror_mode": {
    "name": "ipython",
    "version": 3
   },
   "file_extension": ".py",
   "mimetype": "text/x-python",
   "name": "python",
   "nbconvert_exporter": "python",
   "pygments_lexer": "ipython3",
   "version": "3.9.7"
  }
 },
 "nbformat": 4,
 "nbformat_minor": 5
}
